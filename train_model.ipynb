{
 "cells": [
  {
   "cell_type": "code",
   "execution_count": 109,
   "metadata": {},
   "outputs": [
    {
     "name": "stdout",
     "output_type": "stream",
     "text": [
      "The token has not been saved to the git credentials helper. Pass `add_to_git_credential=True` in this function directly or `--add-to-git-credential` if using via `huggingface-cli` if you want to set the git credential as well.\n",
      "Token is valid (permission: fineGrained).\n",
      "Your token has been saved to C:\\Users\\HANMAC\\.cache\\huggingface\\token\n",
      "Login successful\n"
     ]
    }
   ],
   "source": [
    "from huggingface_hub import login\n",
    "login(token=\"hf_\")"
   ]
  },
  {
   "cell_type": "code",
   "execution_count": 110,
   "metadata": {},
   "outputs": [],
   "source": [
    "from datasets import load_dataset\n",
    "data = load_dataset(\"Junnos/luckyvicky\")"
   ]
  },
  {
   "cell_type": "code",
   "execution_count": 111,
   "metadata": {},
   "outputs": [
    {
     "data": {
      "text/plain": [
       "Dataset({\n",
       "    features: ['index', 'input', 'output'],\n",
       "    num_rows: 150\n",
       "})"
      ]
     },
     "execution_count": 111,
     "metadata": {},
     "output_type": "execute_result"
    }
   ],
   "source": [
    "data['train']"
   ]
  },
  {
   "cell_type": "code",
   "execution_count": 112,
   "metadata": {},
   "outputs": [
    {
     "name": "stdout",
     "output_type": "stream",
     "text": [
      "Data has been saved to new_data.json\n"
     ]
    }
   ],
   "source": [
    "import json \n",
    "\n",
    "new_data = []\n",
    "for item in data['train']:\n",
    "    temp = {}\n",
    "    del item['index']\n",
    "    temp[\"instruction\"] = item['input']\n",
    "    temp['input'] = \"\"\n",
    "    temp['output'] = item['output']\n",
    "    new_data.append(temp)\n",
    "\n",
    "\n",
    "with open('new_data.json', 'w', encoding='utf-8') as json_file:\n",
    "    json.dump(new_data, json_file, indent=4, ensure_ascii=False)\n",
    "\n",
    "\n",
    "print(\"Data has been saved to new_data.json\")"
   ]
  },
  {
   "cell_type": "code",
   "execution_count": 113,
   "metadata": {},
   "outputs": [
    {
     "data": {
      "text/plain": [
       "DatasetDict({\n",
       "    train: Dataset({\n",
       "        features: ['instruction', 'input', 'output'],\n",
       "        num_rows: 150\n",
       "    })\n",
       "})"
      ]
     },
     "execution_count": 113,
     "metadata": {},
     "output_type": "execute_result"
    }
   ],
   "source": [
    "from datasets import Dataset, DatasetDict\n",
    "\n",
    "data_dict = {\n",
    "    'instruction': [item['instruction'] for item in new_data],\n",
    "    'input': [item['input'] for item in new_data],\n",
    "    'output': [item['output'] for item in new_data],\n",
    "}\n",
    "dataset = Dataset.from_dict(data_dict)\n",
    "dataset_dict = DatasetDict({\n",
    "    'train': dataset\n",
    "})\n",
    "dataset_dict\n"
   ]
  },
  {
   "cell_type": "code",
   "execution_count": 114,
   "metadata": {},
   "outputs": [
    {
     "data": {
      "text/plain": [
       "{'instruction': '이제 당분간 공휴일이 없어ㅠㅠ',\n",
       " 'input': '',\n",
       " 'output': '아 맞다! 공휴일이 없어서 아쉽긴 하지... 😅 근데 생각해보니까 오히려 이 시간 동안 열심히 일하면 여름 휴가 때 더 길게 쉴 수 있겠는걸? 🏖️ 그리고 평일에 한가한 카페나 영화관 가기 딱 좋은 시기잖아! 💕 사람 없을 때 여유롭게 즐기는 거 완전 꿀이지 않아? 완전 럭키비키잖앙.😊🍀'}"
      ]
     },
     "execution_count": 114,
     "metadata": {},
     "output_type": "execute_result"
    }
   ],
   "source": [
    "dataset_dict['train'][1]"
   ]
  },
  {
   "cell_type": "code",
   "execution_count": 115,
   "metadata": {},
   "outputs": [
    {
     "data": {
      "application/vnd.jupyter.widget-view+json": {
       "model_id": "aefc3fe8043647bf87ab28558bfbd9d2",
       "version_major": 2,
       "version_minor": 0
      },
      "text/plain": [
       "Map:   0%|          | 0/150 [00:00<?, ? examples/s]"
      ]
     },
     "metadata": {},
     "output_type": "display_data"
    }
   ],
   "source": [
    "data = dataset_dict.map(\n",
    "    lambda x: {'text': f\"### 질문: {x['instruction']}\\n\\n### 답변: {x['output']}</끝>\" }\n",
    ")"
   ]
  },
  {
   "cell_type": "code",
   "execution_count": 116,
   "metadata": {},
   "outputs": [
    {
     "name": "stderr",
     "output_type": "stream",
     "text": [
      "Special tokens have been added in the vocabulary, make sure the associated word embeddings are fine-tuned or trained.\n"
     ]
    },
    {
     "data": {
      "application/vnd.jupyter.widget-view+json": {
       "model_id": "3a2834a2ded84810aec627917a6eae23",
       "version_major": 2,
       "version_minor": 0
      },
      "text/plain": [
       "Loading checkpoint shards:   0%|          | 0/13 [00:00<?, ?it/s]"
      ]
     },
     "metadata": {},
     "output_type": "display_data"
    }
   ],
   "source": [
    "import torch\n",
    "from transformers import AutoTokenizer, AutoModelForCausalLM, BitsAndBytesConfig\n",
    "from peft import PeftModel\n",
    "\n",
    "model_id = \"EleutherAI/polyglot-ko-5.8b\"\n",
    "bnb_config = BitsAndBytesConfig(\n",
    "    load_in_4bit=True,\n",
    "    bnb_4bit_use_double_quant=True,\n",
    "    bnb_4bit_quant_type=\"nf4\",\n",
    "    bnb_4bit_compute_dtype=torch.bfloat16\n",
    "\n",
    ")\n",
    "\n",
    "tokenizer = AutoTokenizer.from_pretrained(model_id)\n",
    "model = AutoModelForCausalLM.from_pretrained(model_id, quantization_config=bnb_config, device_map={\"\":0})"
   ]
  },
  {
   "cell_type": "code",
   "execution_count": 117,
   "metadata": {},
   "outputs": [
    {
     "data": {
      "application/vnd.jupyter.widget-view+json": {
       "model_id": "7b1636950d3d4106ac13c038b3a50983",
       "version_major": 2,
       "version_minor": 0
      },
      "text/plain": [
       "Map:   0%|          | 0/150 [00:00<?, ? examples/s]"
      ]
     },
     "metadata": {},
     "output_type": "display_data"
    }
   ],
   "source": [
    "data = data.map(lambda samples: tokenizer(samples[\"text\"]), batched=True)"
   ]
  },
  {
   "cell_type": "code",
   "execution_count": 121,
   "metadata": {},
   "outputs": [
    {
     "data": {
      "text/plain": [
       "'### 질문: 이제 당분간 공휴일이 없어ㅠㅠ\\n\\n### 답변: 아 맞다! 공휴일이 없어서 아쉽긴 하지... 😅 근데 생각해보니까 오히려 이 시간 동안 열심히 일하면 여름 휴가 때 더 길게 쉴 수 있겠는걸? 🏖️ 그리고 평일에 한가한 카페나 영화관 가기 딱 좋은 시기잖아! 💕 사람 없을 때 여유롭게 즐기는 거 완전 꿀이지 않아? 완전 럭키비키잖앙.😊🍀</끝>'"
      ]
     },
     "execution_count": 121,
     "metadata": {},
     "output_type": "execute_result"
    }
   ],
   "source": [
    "data[\"train\"][1][\"text\"]"
   ]
  },
  {
   "cell_type": "code",
   "execution_count": 122,
   "metadata": {},
   "outputs": [],
   "source": [
    "from peft import prepare_model_for_kbit_training\n",
    "\n",
    "model.gradient_checkpointing_enable()\n",
    "model = prepare_model_for_kbit_training(model)"
   ]
  },
  {
   "cell_type": "code",
   "execution_count": 123,
   "metadata": {},
   "outputs": [],
   "source": [
    "def print_trainable_parameters(model):\n",
    "    \"\"\"\n",
    "    Prints the number of trainable parameters in the model.\n",
    "    \"\"\"\n",
    "    trainable_params = 0\n",
    "    all_param = 0\n",
    "    for _, param in model.named_parameters():\n",
    "        all_param += param.numel()\n",
    "        if param.requires_grad:\n",
    "            trainable_params += param.numel()\n",
    "    print(\n",
    "        f\"trainable params: {trainable_params} || all params: {all_param} || trainable%: {100 * trainable_params / all_param}\"\n",
    "    )"
   ]
  },
  {
   "cell_type": "code",
   "execution_count": 124,
   "metadata": {},
   "outputs": [
    {
     "name": "stdout",
     "output_type": "stream",
     "text": [
      "trainable params: 3670016 || all params: 3070156800 || trainable%: 0.11953838970048696\n"
     ]
    }
   ],
   "source": [
    "from peft import LoraConfig, get_peft_model\n",
    "\n",
    "config = LoraConfig(\n",
    "    r=8,\n",
    "    lora_alpha=32,\n",
    "    target_modules=[\"query_key_value\"],\n",
    "    lora_dropout=0.05,\n",
    "    bias=\"none\",\n",
    "    task_type=\"CAUSAL_LM\"\n",
    ")\n",
    "\n",
    "model = get_peft_model(model, config)\n",
    "print_trainable_parameters(model)"
   ]
  },
  {
   "cell_type": "code",
   "execution_count": 125,
   "metadata": {},
   "outputs": [
    {
     "name": "stderr",
     "output_type": "stream",
     "text": [
      "max_steps is given, it will override any value given in num_train_epochs\n"
     ]
    },
    {
     "data": {
      "application/vnd.jupyter.widget-view+json": {
       "model_id": "57445106db25427ba0fc7f113de721a9",
       "version_major": 2,
       "version_minor": 0
      },
      "text/plain": [
       "  0%|          | 0/1500 [00:00<?, ?it/s]"
      ]
     },
     "metadata": {},
     "output_type": "display_data"
    },
    {
     "name": "stderr",
     "output_type": "stream",
     "text": [
      "d:\\ai_project\\chanyoung\\toypz\\pzpz\\Lib\\site-packages\\torch\\utils\\checkpoint.py:464: UserWarning: torch.utils.checkpoint: the use_reentrant parameter should be passed explicitly. In version 2.4 we will raise an exception if use_reentrant is not passed. use_reentrant=False is recommended, but if you need to preserve the current default behavior, you can pass use_reentrant=True. Refer to docs for more details on the differences between the two variants.\n",
      "  warnings.warn(\n"
     ]
    },
    {
     "name": "stdout",
     "output_type": "stream",
     "text": [
      "{'loss': 3.1432, 'grad_norm': 1.3229501247406006, 'learning_rate': 9.933333333333334e-05, 'epoch': 0.53}\n",
      "{'loss': 2.4505, 'grad_norm': 2.023252248764038, 'learning_rate': 9.866666666666668e-05, 'epoch': 1.05}\n",
      "{'loss': 1.9083, 'grad_norm': 1.2205917835235596, 'learning_rate': 9.8e-05, 'epoch': 1.58}\n",
      "{'loss': 1.7193, 'grad_norm': 1.3270176649093628, 'learning_rate': 9.733333333333335e-05, 'epoch': 2.11}\n",
      "{'loss': 1.5729, 'grad_norm': 1.2976430654525757, 'learning_rate': 9.666666666666667e-05, 'epoch': 2.63}\n",
      "{'loss': 1.455, 'grad_norm': 1.420029878616333, 'learning_rate': 9.6e-05, 'epoch': 3.16}\n",
      "{'loss': 1.3168, 'grad_norm': 1.3840115070343018, 'learning_rate': 9.533333333333334e-05, 'epoch': 3.68}\n",
      "{'loss': 1.2738, 'grad_norm': 2.1836068630218506, 'learning_rate': 9.466666666666667e-05, 'epoch': 4.21}\n",
      "{'loss': 1.2069, 'grad_norm': 1.4762251377105713, 'learning_rate': 9.4e-05, 'epoch': 4.74}\n",
      "{'loss': 1.1194, 'grad_norm': 2.0291714668273926, 'learning_rate': 9.333333333333334e-05, 'epoch': 5.26}\n",
      "{'loss': 1.1172, 'grad_norm': 2.0477607250213623, 'learning_rate': 9.266666666666666e-05, 'epoch': 5.79}\n",
      "{'loss': 1.0264, 'grad_norm': 2.280264377593994, 'learning_rate': 9.200000000000001e-05, 'epoch': 6.32}\n",
      "{'loss': 0.997, 'grad_norm': 2.0951104164123535, 'learning_rate': 9.133333333333334e-05, 'epoch': 6.84}\n",
      "{'loss': 0.9211, 'grad_norm': 2.8242602348327637, 'learning_rate': 9.066666666666667e-05, 'epoch': 7.37}\n",
      "{'loss': 0.9145, 'grad_norm': 2.7044708728790283, 'learning_rate': 9e-05, 'epoch': 7.89}\n",
      "{'loss': 0.8232, 'grad_norm': 2.9232735633850098, 'learning_rate': 8.933333333333334e-05, 'epoch': 8.42}\n",
      "{'loss': 0.8184, 'grad_norm': 3.2500391006469727, 'learning_rate': 8.866666666666668e-05, 'epoch': 8.95}\n",
      "{'loss': 0.7492, 'grad_norm': 3.0661256313323975, 'learning_rate': 8.800000000000001e-05, 'epoch': 9.47}\n",
      "{'loss': 0.7135, 'grad_norm': 3.717904806137085, 'learning_rate': 8.733333333333333e-05, 'epoch': 10.0}\n",
      "{'loss': 0.6445, 'grad_norm': 3.45578670501709, 'learning_rate': 8.666666666666667e-05, 'epoch': 10.53}\n",
      "{'loss': 0.6254, 'grad_norm': 3.2441227436065674, 'learning_rate': 8.6e-05, 'epoch': 11.05}\n",
      "{'loss': 0.5632, 'grad_norm': 3.171809196472168, 'learning_rate': 8.533333333333334e-05, 'epoch': 11.58}\n",
      "{'loss': 0.5572, 'grad_norm': 3.665684700012207, 'learning_rate': 8.466666666666667e-05, 'epoch': 12.11}\n",
      "{'loss': 0.4739, 'grad_norm': 3.597538709640503, 'learning_rate': 8.4e-05, 'epoch': 12.63}\n",
      "{'loss': 0.4532, 'grad_norm': 3.5781588554382324, 'learning_rate': 8.333333333333334e-05, 'epoch': 13.16}\n",
      "{'loss': 0.4008, 'grad_norm': 4.36163854598999, 'learning_rate': 8.266666666666667e-05, 'epoch': 13.68}\n",
      "{'loss': 0.3938, 'grad_norm': 3.8135836124420166, 'learning_rate': 8.2e-05, 'epoch': 14.21}\n",
      "{'loss': 0.3375, 'grad_norm': 3.4640910625457764, 'learning_rate': 8.133333333333334e-05, 'epoch': 14.74}\n",
      "{'loss': 0.3187, 'grad_norm': 3.1146867275238037, 'learning_rate': 8.066666666666667e-05, 'epoch': 15.26}\n",
      "{'loss': 0.296, 'grad_norm': 3.8451988697052, 'learning_rate': 8e-05, 'epoch': 15.79}\n",
      "{'loss': 0.2874, 'grad_norm': 2.9019274711608887, 'learning_rate': 7.933333333333334e-05, 'epoch': 16.32}\n",
      "{'loss': 0.2533, 'grad_norm': 3.5397133827209473, 'learning_rate': 7.866666666666666e-05, 'epoch': 16.84}\n",
      "{'loss': 0.2189, 'grad_norm': 3.637465715408325, 'learning_rate': 7.800000000000001e-05, 'epoch': 17.37}\n",
      "{'loss': 0.2172, 'grad_norm': 3.623300552368164, 'learning_rate': 7.733333333333333e-05, 'epoch': 17.89}\n",
      "{'loss': 0.189, 'grad_norm': 2.5601770877838135, 'learning_rate': 7.666666666666667e-05, 'epoch': 18.42}\n",
      "{'loss': 0.1852, 'grad_norm': 3.1391854286193848, 'learning_rate': 7.6e-05, 'epoch': 18.95}\n",
      "{'loss': 0.1567, 'grad_norm': 2.5931310653686523, 'learning_rate': 7.533333333333334e-05, 'epoch': 19.47}\n",
      "{'loss': 0.1604, 'grad_norm': 4.127790927886963, 'learning_rate': 7.466666666666667e-05, 'epoch': 20.0}\n",
      "{'loss': 0.1345, 'grad_norm': 2.5273971557617188, 'learning_rate': 7.4e-05, 'epoch': 20.53}\n",
      "{'loss': 0.1419, 'grad_norm': 1.7827988862991333, 'learning_rate': 7.333333333333333e-05, 'epoch': 21.05}\n",
      "{'loss': 0.1156, 'grad_norm': 2.17512583732605, 'learning_rate': 7.266666666666667e-05, 'epoch': 21.58}\n",
      "{'loss': 0.1218, 'grad_norm': 1.6670631170272827, 'learning_rate': 7.2e-05, 'epoch': 22.11}\n",
      "{'loss': 0.1081, 'grad_norm': 1.9757121801376343, 'learning_rate': 7.133333333333334e-05, 'epoch': 22.63}\n",
      "{'loss': 0.1032, 'grad_norm': 1.885938048362732, 'learning_rate': 7.066666666666667e-05, 'epoch': 23.16}\n",
      "{'loss': 0.1012, 'grad_norm': 2.2643609046936035, 'learning_rate': 7e-05, 'epoch': 23.68}\n",
      "{'loss': 0.0921, 'grad_norm': 1.9989430904388428, 'learning_rate': 6.933333333333334e-05, 'epoch': 24.21}\n",
      "{'loss': 0.0934, 'grad_norm': 1.8727145195007324, 'learning_rate': 6.866666666666666e-05, 'epoch': 24.74}\n",
      "{'loss': 0.0891, 'grad_norm': 1.2578986883163452, 'learning_rate': 6.800000000000001e-05, 'epoch': 25.26}\n",
      "{'loss': 0.0856, 'grad_norm': 1.3964773416519165, 'learning_rate': 6.733333333333333e-05, 'epoch': 25.79}\n",
      "{'loss': 0.0823, 'grad_norm': 1.9237653017044067, 'learning_rate': 6.666666666666667e-05, 'epoch': 26.32}\n"
     ]
    },
    {
     "name": "stderr",
     "output_type": "stream",
     "text": [
      "d:\\ai_project\\chanyoung\\toypz\\pzpz\\Lib\\site-packages\\torch\\utils\\checkpoint.py:464: UserWarning: torch.utils.checkpoint: the use_reentrant parameter should be passed explicitly. In version 2.4 we will raise an exception if use_reentrant is not passed. use_reentrant=False is recommended, but if you need to preserve the current default behavior, you can pass use_reentrant=True. Refer to docs for more details on the differences between the two variants.\n",
      "  warnings.warn(\n"
     ]
    },
    {
     "name": "stdout",
     "output_type": "stream",
     "text": [
      "{'loss': 0.0826, 'grad_norm': 1.4677860736846924, 'learning_rate': 6.6e-05, 'epoch': 26.84}\n",
      "{'loss': 0.0767, 'grad_norm': 1.1872189044952393, 'learning_rate': 6.533333333333334e-05, 'epoch': 27.37}\n",
      "{'loss': 0.0775, 'grad_norm': 2.0778162479400635, 'learning_rate': 6.466666666666666e-05, 'epoch': 27.89}\n",
      "{'loss': 0.0769, 'grad_norm': 4.229091644287109, 'learning_rate': 6.400000000000001e-05, 'epoch': 28.42}\n",
      "{'loss': 0.0858, 'grad_norm': 1.5594018697738647, 'learning_rate': 6.333333333333333e-05, 'epoch': 28.95}\n",
      "{'loss': 0.0739, 'grad_norm': 1.8345117568969727, 'learning_rate': 6.266666666666667e-05, 'epoch': 29.47}\n",
      "{'loss': 0.0747, 'grad_norm': 1.4302817583084106, 'learning_rate': 6.2e-05, 'epoch': 30.0}\n",
      "{'loss': 0.0711, 'grad_norm': 1.4900528192520142, 'learning_rate': 6.133333333333334e-05, 'epoch': 30.53}\n",
      "{'loss': 0.0703, 'grad_norm': 1.2653863430023193, 'learning_rate': 6.066666666666667e-05, 'epoch': 31.05}\n",
      "{'loss': 0.0663, 'grad_norm': 1.2741895914077759, 'learning_rate': 6e-05, 'epoch': 31.58}\n",
      "{'loss': 0.0693, 'grad_norm': 0.8214688897132874, 'learning_rate': 5.9333333333333343e-05, 'epoch': 32.11}\n",
      "{'loss': 0.0687, 'grad_norm': 1.1886115074157715, 'learning_rate': 5.866666666666667e-05, 'epoch': 32.63}\n",
      "{'loss': 0.0683, 'grad_norm': 1.4726536273956299, 'learning_rate': 5.8e-05, 'epoch': 33.16}\n",
      "{'loss': 0.0654, 'grad_norm': 1.4416981935501099, 'learning_rate': 5.7333333333333336e-05, 'epoch': 33.68}\n",
      "{'loss': 0.0677, 'grad_norm': 3.7690935134887695, 'learning_rate': 5.666666666666667e-05, 'epoch': 34.21}\n",
      "{'loss': 0.0646, 'grad_norm': 0.8428273797035217, 'learning_rate': 5.6000000000000006e-05, 'epoch': 34.74}\n",
      "{'loss': 0.0637, 'grad_norm': 1.3547340631484985, 'learning_rate': 5.5333333333333334e-05, 'epoch': 35.26}\n",
      "{'loss': 0.0619, 'grad_norm': 0.9990442991256714, 'learning_rate': 5.466666666666666e-05, 'epoch': 35.79}\n",
      "{'loss': 0.0631, 'grad_norm': 1.789178490638733, 'learning_rate': 5.4000000000000005e-05, 'epoch': 36.32}\n",
      "{'loss': 0.064, 'grad_norm': 1.8792097568511963, 'learning_rate': 5.333333333333333e-05, 'epoch': 36.84}\n",
      "{'loss': 0.0595, 'grad_norm': 1.7387785911560059, 'learning_rate': 5.266666666666666e-05, 'epoch': 37.37}\n",
      "{'loss': 0.0622, 'grad_norm': 0.8311941623687744, 'learning_rate': 5.2000000000000004e-05, 'epoch': 37.89}\n",
      "{'loss': 0.0599, 'grad_norm': 0.9712024927139282, 'learning_rate': 5.133333333333333e-05, 'epoch': 38.42}\n",
      "{'loss': 0.0602, 'grad_norm': 1.491285800933838, 'learning_rate': 5.0666666666666674e-05, 'epoch': 38.95}\n",
      "{'loss': 0.0576, 'grad_norm': 0.9214322566986084, 'learning_rate': 5e-05, 'epoch': 39.47}\n",
      "{'loss': 0.0587, 'grad_norm': 0.8734206557273865, 'learning_rate': 4.933333333333334e-05, 'epoch': 40.0}\n",
      "{'loss': 0.0547, 'grad_norm': 0.7376143932342529, 'learning_rate': 4.866666666666667e-05, 'epoch': 40.53}\n",
      "{'loss': 0.059, 'grad_norm': 0.5890258550643921, 'learning_rate': 4.8e-05, 'epoch': 41.05}\n",
      "{'loss': 0.0553, 'grad_norm': 0.7516628503799438, 'learning_rate': 4.7333333333333336e-05, 'epoch': 41.58}\n",
      "{'loss': 0.0546, 'grad_norm': 0.5003223419189453, 'learning_rate': 4.666666666666667e-05, 'epoch': 42.11}\n",
      "{'loss': 0.0539, 'grad_norm': 0.7340953946113586, 'learning_rate': 4.600000000000001e-05, 'epoch': 42.63}\n",
      "{'loss': 0.0566, 'grad_norm': 0.4853624999523163, 'learning_rate': 4.5333333333333335e-05, 'epoch': 43.16}\n",
      "{'loss': 0.0541, 'grad_norm': 0.8084847927093506, 'learning_rate': 4.466666666666667e-05, 'epoch': 43.68}\n",
      "{'loss': 0.0552, 'grad_norm': 0.5299881100654602, 'learning_rate': 4.4000000000000006e-05, 'epoch': 44.21}\n",
      "{'loss': 0.0527, 'grad_norm': 0.5923768877983093, 'learning_rate': 4.3333333333333334e-05, 'epoch': 44.74}\n",
      "{'loss': 0.053, 'grad_norm': 0.5674704313278198, 'learning_rate': 4.266666666666667e-05, 'epoch': 45.26}\n",
      "{'loss': 0.0527, 'grad_norm': 0.9477238059043884, 'learning_rate': 4.2e-05, 'epoch': 45.79}\n",
      "{'loss': 0.0522, 'grad_norm': 0.5563881397247314, 'learning_rate': 4.133333333333333e-05, 'epoch': 46.32}\n",
      "{'loss': 0.0514, 'grad_norm': 0.6191518902778625, 'learning_rate': 4.066666666666667e-05, 'epoch': 46.84}\n",
      "{'loss': 0.0514, 'grad_norm': 0.5872295498847961, 'learning_rate': 4e-05, 'epoch': 47.37}\n",
      "{'loss': 0.0525, 'grad_norm': 0.7236988544464111, 'learning_rate': 3.933333333333333e-05, 'epoch': 47.89}\n",
      "{'loss': 0.0503, 'grad_norm': 0.49569255113601685, 'learning_rate': 3.866666666666667e-05, 'epoch': 48.42}\n",
      "{'loss': 0.0519, 'grad_norm': 0.5071993470191956, 'learning_rate': 3.8e-05, 'epoch': 48.95}\n",
      "{'loss': 0.0494, 'grad_norm': 0.5619069337844849, 'learning_rate': 3.733333333333334e-05, 'epoch': 49.47}\n",
      "{'loss': 0.052, 'grad_norm': 0.85248202085495, 'learning_rate': 3.6666666666666666e-05, 'epoch': 50.0}\n",
      "{'loss': 0.0493, 'grad_norm': 0.5386448502540588, 'learning_rate': 3.6e-05, 'epoch': 50.53}\n",
      "{'loss': 0.0513, 'grad_norm': 0.44324153661727905, 'learning_rate': 3.5333333333333336e-05, 'epoch': 51.05}\n",
      "{'loss': 0.0497, 'grad_norm': 0.5845671892166138, 'learning_rate': 3.466666666666667e-05, 'epoch': 51.58}\n",
      "{'loss': 0.0504, 'grad_norm': 0.5018875598907471, 'learning_rate': 3.4000000000000007e-05, 'epoch': 52.11}\n",
      "{'loss': 0.0492, 'grad_norm': 0.4971378743648529, 'learning_rate': 3.3333333333333335e-05, 'epoch': 52.63}\n"
     ]
    },
    {
     "name": "stderr",
     "output_type": "stream",
     "text": [
      "d:\\ai_project\\chanyoung\\toypz\\pzpz\\Lib\\site-packages\\torch\\utils\\checkpoint.py:464: UserWarning: torch.utils.checkpoint: the use_reentrant parameter should be passed explicitly. In version 2.4 we will raise an exception if use_reentrant is not passed. use_reentrant=False is recommended, but if you need to preserve the current default behavior, you can pass use_reentrant=True. Refer to docs for more details on the differences between the two variants.\n",
      "  warnings.warn(\n"
     ]
    },
    {
     "name": "stdout",
     "output_type": "stream",
     "text": [
      "{'loss': 0.0504, 'grad_norm': 0.5203610062599182, 'learning_rate': 3.266666666666667e-05, 'epoch': 53.16}\n",
      "{'loss': 0.0486, 'grad_norm': 0.5043821930885315, 'learning_rate': 3.2000000000000005e-05, 'epoch': 53.68}\n",
      "{'loss': 0.0499, 'grad_norm': 0.5463387966156006, 'learning_rate': 3.1333333333333334e-05, 'epoch': 54.21}\n",
      "{'loss': 0.0489, 'grad_norm': 0.5280925631523132, 'learning_rate': 3.066666666666667e-05, 'epoch': 54.74}\n",
      "{'loss': 0.0491, 'grad_norm': 0.4658384621143341, 'learning_rate': 3e-05, 'epoch': 55.26}\n",
      "{'loss': 0.0492, 'grad_norm': 0.5363773703575134, 'learning_rate': 2.9333333333333336e-05, 'epoch': 55.79}\n",
      "{'loss': 0.0484, 'grad_norm': 0.5025350451469421, 'learning_rate': 2.8666666666666668e-05, 'epoch': 56.32}\n",
      "{'loss': 0.0494, 'grad_norm': 0.6162436008453369, 'learning_rate': 2.8000000000000003e-05, 'epoch': 56.84}\n",
      "{'loss': 0.0481, 'grad_norm': 0.46125659346580505, 'learning_rate': 2.733333333333333e-05, 'epoch': 57.37}\n",
      "{'loss': 0.0494, 'grad_norm': 0.5567043423652649, 'learning_rate': 2.6666666666666667e-05, 'epoch': 57.89}\n",
      "{'loss': 0.0474, 'grad_norm': 0.509823739528656, 'learning_rate': 2.6000000000000002e-05, 'epoch': 58.42}\n",
      "{'loss': 0.0497, 'grad_norm': 0.4615960121154785, 'learning_rate': 2.5333333333333337e-05, 'epoch': 58.95}\n",
      "{'loss': 0.0474, 'grad_norm': 0.6479499340057373, 'learning_rate': 2.466666666666667e-05, 'epoch': 59.47}\n",
      "{'loss': 0.0496, 'grad_norm': 0.7568596601486206, 'learning_rate': 2.4e-05, 'epoch': 60.0}\n",
      "{'loss': 0.047, 'grad_norm': 0.4742273986339569, 'learning_rate': 2.3333333333333336e-05, 'epoch': 60.53}\n",
      "{'loss': 0.0492, 'grad_norm': 0.43864285945892334, 'learning_rate': 2.2666666666666668e-05, 'epoch': 61.05}\n",
      "{'loss': 0.0471, 'grad_norm': 0.4713502824306488, 'learning_rate': 2.2000000000000003e-05, 'epoch': 61.58}\n",
      "{'loss': 0.0488, 'grad_norm': 0.43203312158584595, 'learning_rate': 2.1333333333333335e-05, 'epoch': 62.11}\n",
      "{'loss': 0.0481, 'grad_norm': 0.5742081999778748, 'learning_rate': 2.0666666666666666e-05, 'epoch': 62.63}\n",
      "{'loss': 0.0485, 'grad_norm': 0.4453616142272949, 'learning_rate': 2e-05, 'epoch': 63.16}\n",
      "{'loss': 0.047, 'grad_norm': 0.4272564947605133, 'learning_rate': 1.9333333333333333e-05, 'epoch': 63.68}\n",
      "{'loss': 0.0485, 'grad_norm': 0.453832745552063, 'learning_rate': 1.866666666666667e-05, 'epoch': 64.21}\n",
      "{'loss': 0.0468, 'grad_norm': 0.548279345035553, 'learning_rate': 1.8e-05, 'epoch': 64.74}\n",
      "{'loss': 0.0477, 'grad_norm': 0.4893626272678375, 'learning_rate': 1.7333333333333336e-05, 'epoch': 65.26}\n",
      "{'loss': 0.0478, 'grad_norm': 0.5431416630744934, 'learning_rate': 1.6666666666666667e-05, 'epoch': 65.79}\n",
      "{'loss': 0.0466, 'grad_norm': 0.49321267008781433, 'learning_rate': 1.6000000000000003e-05, 'epoch': 66.32}\n",
      "{'loss': 0.048, 'grad_norm': 0.6348541378974915, 'learning_rate': 1.5333333333333334e-05, 'epoch': 66.84}\n",
      "{'loss': 0.0465, 'grad_norm': 0.4881238043308258, 'learning_rate': 1.4666666666666668e-05, 'epoch': 67.37}\n",
      "{'loss': 0.0479, 'grad_norm': 0.5822094082832336, 'learning_rate': 1.4000000000000001e-05, 'epoch': 67.89}\n",
      "{'loss': 0.0466, 'grad_norm': 0.555106520652771, 'learning_rate': 1.3333333333333333e-05, 'epoch': 68.42}\n",
      "{'loss': 0.0475, 'grad_norm': 0.472319096326828, 'learning_rate': 1.2666666666666668e-05, 'epoch': 68.95}\n",
      "{'loss': 0.0457, 'grad_norm': 0.527239203453064, 'learning_rate': 1.2e-05, 'epoch': 69.47}\n",
      "{'loss': 0.0484, 'grad_norm': 0.6410967707633972, 'learning_rate': 1.1333333333333334e-05, 'epoch': 70.0}\n",
      "{'loss': 0.0456, 'grad_norm': 0.45821449160575867, 'learning_rate': 1.0666666666666667e-05, 'epoch': 70.53}\n",
      "{'loss': 0.0479, 'grad_norm': 0.46859079599380493, 'learning_rate': 1e-05, 'epoch': 71.05}\n",
      "{'loss': 0.0458, 'grad_norm': 0.48671630024909973, 'learning_rate': 9.333333333333334e-06, 'epoch': 71.58}\n",
      "{'loss': 0.0468, 'grad_norm': 0.5139307975769043, 'learning_rate': 8.666666666666668e-06, 'epoch': 72.11}\n",
      "{'loss': 0.0465, 'grad_norm': 0.5366879105567932, 'learning_rate': 8.000000000000001e-06, 'epoch': 72.63}\n",
      "{'loss': 0.0469, 'grad_norm': 0.5011433362960815, 'learning_rate': 7.333333333333334e-06, 'epoch': 73.16}\n",
      "{'loss': 0.0462, 'grad_norm': 0.42467060685157776, 'learning_rate': 6.666666666666667e-06, 'epoch': 73.68}\n",
      "{'loss': 0.0468, 'grad_norm': 0.45241299271583557, 'learning_rate': 6e-06, 'epoch': 74.21}\n",
      "{'loss': 0.0463, 'grad_norm': 0.44083860516548157, 'learning_rate': 5.333333333333334e-06, 'epoch': 74.74}\n",
      "{'loss': 0.0453, 'grad_norm': 0.5306981801986694, 'learning_rate': 4.666666666666667e-06, 'epoch': 75.26}\n",
      "{'loss': 0.0471, 'grad_norm': 0.587051272392273, 'learning_rate': 4.000000000000001e-06, 'epoch': 75.79}\n",
      "{'loss': 0.0464, 'grad_norm': 0.5357513427734375, 'learning_rate': 3.3333333333333333e-06, 'epoch': 76.32}\n",
      "{'loss': 0.0462, 'grad_norm': 0.5840902328491211, 'learning_rate': 2.666666666666667e-06, 'epoch': 76.84}\n",
      "{'loss': 0.0455, 'grad_norm': 0.5417683124542236, 'learning_rate': 2.0000000000000003e-06, 'epoch': 77.37}\n",
      "{'loss': 0.0452, 'grad_norm': 0.5101938843727112, 'learning_rate': 1.3333333333333334e-06, 'epoch': 77.89}\n",
      "{'loss': 0.0459, 'grad_norm': 0.5118327736854553, 'learning_rate': 6.666666666666667e-07, 'epoch': 78.42}\n",
      "{'loss': 0.0461, 'grad_norm': 0.4734419286251068, 'learning_rate': 0.0, 'epoch': 78.95}\n",
      "{'train_runtime': 1282.3907, 'train_samples_per_second': 9.358, 'train_steps_per_second': 1.17, 'train_loss': 0.25771228766441345, 'epoch': 78.95}\n"
     ]
    },
    {
     "data": {
      "text/plain": [
       "TrainOutput(global_step=1500, training_loss=0.25771228766441345, metrics={'train_runtime': 1282.3907, 'train_samples_per_second': 9.358, 'train_steps_per_second': 1.17, 'total_flos': 8.450810697567437e+16, 'train_loss': 0.25771228766441345, 'epoch': 78.94736842105263})"
      ]
     },
     "execution_count": 125,
     "metadata": {},
     "output_type": "execute_result"
    }
   ],
   "source": [
    "import transformers\n",
    "\n",
    "# needed for gpt-neo-x tokenizer\n",
    "tokenizer.pad_token = tokenizer.eos_token\n",
    "\n",
    "trainer = transformers.Trainer(\n",
    "    model=model,\n",
    "    train_dataset=data[\"train\"],\n",
    "    args=transformers.TrainingArguments(\n",
    "        per_device_train_batch_size=8,\n",
    "        gradient_accumulation_steps=1,\n",
    "        max_steps=1500,\n",
    "        learning_rate=1e-4,\n",
    "        fp16=True,\n",
    "        logging_steps=10,\n",
    "        logging_dir=\"./logs\",\n",
    "        output_dir=\"llorrra\",\n",
    "        # optim=\"paged_adamw_8bit\"\n",
    "    ),\n",
    "    data_collator=transformers.DataCollatorForLanguageModeling(tokenizer, mlm=False),\n",
    ")\n",
    "model.config.use_cache = False  # silence the warnings. Please re-enable for inference!\n",
    "trainer.train()"
   ]
  },
  {
   "cell_type": "code",
   "execution_count": 127,
   "metadata": {},
   "outputs": [],
   "source": [
    "model.eval()\n",
    "model.config.use_cache = True  # silence the warnings. Please re-enable for inference!"
   ]
  },
  {
   "cell_type": "code",
   "execution_count": 128,
   "metadata": {},
   "outputs": [
    {
     "name": "stderr",
     "output_type": "stream",
     "text": [
      "Setting `pad_token_id` to `eos_token_id`:2 for open-end generation.\n",
      "d:\\ai_project\\chanyoung\\toypz\\pzpz\\Lib\\site-packages\\transformers\\generation\\utils.py:1249: UserWarning: Using the model-agnostic default `max_length` (=20) to control the generation length. We recommend setting `max_new_tokens` to control the maximum length of the generation.\n",
      "  warnings.warn(\n",
      "d:\\ai_project\\chanyoung\\toypz\\pzpz\\Lib\\site-packages\\transformers\\generation\\utils.py:1797: UserWarning: You are calling .generate() with the `input_ids` being on a device type different than your model's device. `input_ids` is on cpu, whereas the model is on cuda. You may experience unexpected behaviors or slower generation. Please make sure that you have put `input_ids` to the correct device by calling for example input_ids = input_ids.to('cuda') before running `.generate()`.\n",
      "  warnings.warn(\n"
     ]
    },
    {
     "data": {
      "text/plain": [
       "tensor([[    6,     6,     6,  2438,    29,  1591,   806,  1198,   488,   202,\n",
       "           202,     6,     6,     6,  4253,    29, 21444,    97,  1330,   283]])"
      ]
     },
     "execution_count": 128,
     "metadata": {},
     "output_type": "execute_result"
    }
   ],
   "source": [
    "model.generate(**tokenizer(\"### 질문: 너무 배불러\", return_tensors='pt', return_token_type_ids=False))"
   ]
  },
  {
   "cell_type": "code",
   "execution_count": 156,
   "metadata": {},
   "outputs": [],
   "source": [
    "def gen(x):\n",
    "    gened = model.generate(\n",
    "        **tokenizer(\n",
    "            f\"### 질문: {x}\\n\\n### 답변:\",\n",
    "            return_tensors='pt',\n",
    "            return_token_type_ids=False\n",
    "        ),\n",
    "        max_new_tokens=256,\n",
    "        early_stopping=True,\n",
    "        do_sample=True,\n",
    "        eos_token_id=2,\n",
    "    )\n",
    "    tmp = tokenizer.decode(gened[0], skip_special_tokens=True).split('###')[2]\n",
    "    end_token = \"</끝>\"\n",
    "    token_position = tmp.find(end_token)\n",
    "    if token_position != -1:\n",
    "        result = tmp[:token_position]\n",
    "    else:\n",
    "        result = tmp\n",
    "    \n",
    "    print(result)\n",
    "    return result\n"
   ]
  },
  {
   "cell_type": "code",
   "execution_count": 157,
   "metadata": {},
   "outputs": [
    {
     "name": "stderr",
     "output_type": "stream",
     "text": [
      "d:\\ai_project\\chanyoung\\toypz\\pzpz\\Lib\\site-packages\\transformers\\generation\\configuration_utils.py:588: UserWarning: `num_beams` is set to 1. However, `early_stopping` is set to `True` -- this flag is only used in beam-based generation modes. You should set `num_beams>1` or unset `early_stopping`.\n",
      "  warnings.warn(\n",
      "Setting `pad_token_id` to `eos_token_id`:2 for open-end generation.\n",
      "d:\\ai_project\\chanyoung\\toypz\\pzpz\\Lib\\site-packages\\transformers\\generation\\utils.py:1797: UserWarning: You are calling .generate() with the `input_ids` being on a device type different than your model's device. `input_ids` is on cpu, whereas the model is on cuda. You may experience unexpected behaviors or slower generation. Please make sure that you have put `input_ids` to the correct device by calling for example input_ids = input_ids.to('cuda') before running `.generate()`.\n",
      "  warnings.warn(\n"
     ]
    },
    {
     "name": "stdout",
     "output_type": "stream",
     "text": [
      " 답변: 아이고, 이거 완전 재난영화 속 장면 아니야? 🎭✨ 나도 가끔 이런 경험 있었는데, 이거 완전 재밌는 기회 아닐까? \n",
      "\n",
      "비 맞으면서 뭔가 자유로움을 느낄 수 있는 순간이라고! 🌧✨ 그리고 이런 경험 덕분에 앞으로 어떤 날씨에도 견딜 수 있는 초능력을 얻게 될지도? \n",
      "\n",
      "이런 날 집에서 그냥 있는 것도 좋지만 영화 속 주인공처럼 밖으로 나가서 뭔가 찾는 건 어떨까? 완전 럭키비키잖앙.😊🍀\n"
     ]
    },
    {
     "data": {
      "text/plain": [
       "' 답변: 아이고, 이거 완전 재난영화 속 장면 아니야? 🎭✨ 나도 가끔 이런 경험 있었는데, 이거 완전 재밌는 기회 아닐까? \\n\\n비 맞으면서 뭔가 자유로움을 느낄 수 있는 순간이라고! 🌧✨ 그리고 이런 경험 덕분에 앞으로 어떤 날씨에도 견딜 수 있는 초능력을 얻게 될지도? \\n\\n이런 날 집에서 그냥 있는 것도 좋지만 영화 속 주인공처럼 밖으로 나가서 뭔가 찾는 건 어떨까? 완전 럭키비키잖앙.😊🍀'"
      ]
     },
     "execution_count": 157,
     "metadata": {},
     "output_type": "execute_result"
    }
   ],
   "source": [
    "gen('비가 너무 많이와')"
   ]
  },
  {
   "cell_type": "code",
   "execution_count": 158,
   "metadata": {},
   "outputs": [],
   "source": [
    "model.save_pretrained(\"c\")"
   ]
  },
  {
   "cell_type": "code",
   "execution_count": 159,
   "metadata": {},
   "outputs": [
    {
     "data": {
      "application/vnd.jupyter.widget-view+json": {
       "model_id": "dc408d2cc0224a0194b45878c3f3fe7a",
       "version_major": 2,
       "version_minor": 0
      },
      "text/plain": [
       "VBox(children=(HTML(value='<center> <img\\nsrc=https://huggingface.co/front/assets/huggingface_logo-noborder.sv…"
      ]
     },
     "metadata": {},
     "output_type": "display_data"
    }
   ],
   "source": [
    "from huggingface_hub import notebook_login\n",
    "notebook_login()"
   ]
  },
  {
   "cell_type": "code",
   "execution_count": 160,
   "metadata": {},
   "outputs": [
    {
     "data": {
      "application/vnd.jupyter.widget-view+json": {
       "model_id": "945c47d80c1140d3964bcc5522f9da65",
       "version_major": 2,
       "version_minor": 0
      },
      "text/plain": [
       "README.md:   0%|          | 0.00/31.0 [00:00<?, ?B/s]"
      ]
     },
     "metadata": {},
     "output_type": "display_data"
    },
    {
     "name": "stderr",
     "output_type": "stream",
     "text": [
      "d:\\ai_project\\chanyoung\\toypz\\pzpz\\Lib\\site-packages\\huggingface_hub\\file_download.py:157: UserWarning: `huggingface_hub` cache-system uses symlinks by default to efficiently store duplicated files but your machine does not support them in C:\\Users\\HANMAC\\.cache\\huggingface\\hub\\models--chan1121--luckyvicky2_model_5b. Caching files will still work but in a degraded version that might require more space on your disk. This warning can be disabled by setting the `HF_HUB_DISABLE_SYMLINKS_WARNING` environment variable. For more details, see https://huggingface.co/docs/huggingface_hub/how-to-cache#limitations.\n",
      "To support symlinks on Windows, you either need to activate Developer Mode or to run Python as an administrator. In order to see activate developer mode, see this article: https://docs.microsoft.com/en-us/windows/apps/get-started/enable-your-device-for-development\n",
      "  warnings.warn(message)\n"
     ]
    },
    {
     "data": {
      "application/vnd.jupyter.widget-view+json": {
       "model_id": "3dfd8aa01c4649b89a2e37a9d7e2b386",
       "version_major": 2,
       "version_minor": 0
      },
      "text/plain": [
       "adapter_model.safetensors:   0%|          | 0.00/14.7M [00:00<?, ?B/s]"
      ]
     },
     "metadata": {},
     "output_type": "display_data"
    },
    {
     "data": {
      "text/plain": [
       "CommitInfo(commit_url='https://huggingface.co/chan1121/luckyvicky2_model_5b/commit/ff7b7cd1c683bee1b8975978e853993549cba724', commit_message='Upload model', commit_description='', oid='ff7b7cd1c683bee1b8975978e853993549cba724', pr_url=None, pr_revision=None, pr_num=None)"
      ]
     },
     "execution_count": 160,
     "metadata": {},
     "output_type": "execute_result"
    }
   ],
   "source": [
    "model.push_to_hub(\"chan1121/luckyvicky2_model_5b\")\n"
   ]
  },
  {
   "cell_type": "code",
   "execution_count": 35,
   "metadata": {},
   "outputs": [
    {
     "data": {
      "application/vnd.jupyter.widget-view+json": {
       "model_id": "4c613d41adf14bf0a52dfae7d22f4af7",
       "version_major": 2,
       "version_minor": 0
      },
      "text/plain": [
       "Loading checkpoint shards:   0%|          | 0/13 [00:00<?, ?it/s]"
      ]
     },
     "metadata": {},
     "output_type": "display_data"
    },
    {
     "name": "stderr",
     "output_type": "stream",
     "text": [
      "Loading adapter weights from ttb led to unexpected keys not found in the model:  ['gpt_neox.layers.0.attention.query_key_value.lora_A.default.weight', 'gpt_neox.layers.0.attention.query_key_value.lora_B.default.weight', 'gpt_neox.layers.1.attention.query_key_value.lora_A.default.weight', 'gpt_neox.layers.1.attention.query_key_value.lora_B.default.weight', 'gpt_neox.layers.10.attention.query_key_value.lora_A.default.weight', 'gpt_neox.layers.10.attention.query_key_value.lora_B.default.weight', 'gpt_neox.layers.11.attention.query_key_value.lora_A.default.weight', 'gpt_neox.layers.11.attention.query_key_value.lora_B.default.weight', 'gpt_neox.layers.12.attention.query_key_value.lora_A.default.weight', 'gpt_neox.layers.12.attention.query_key_value.lora_B.default.weight', 'gpt_neox.layers.13.attention.query_key_value.lora_A.default.weight', 'gpt_neox.layers.13.attention.query_key_value.lora_B.default.weight', 'gpt_neox.layers.14.attention.query_key_value.lora_A.default.weight', 'gpt_neox.layers.14.attention.query_key_value.lora_B.default.weight', 'gpt_neox.layers.15.attention.query_key_value.lora_A.default.weight', 'gpt_neox.layers.15.attention.query_key_value.lora_B.default.weight', 'gpt_neox.layers.16.attention.query_key_value.lora_A.default.weight', 'gpt_neox.layers.16.attention.query_key_value.lora_B.default.weight', 'gpt_neox.layers.17.attention.query_key_value.lora_A.default.weight', 'gpt_neox.layers.17.attention.query_key_value.lora_B.default.weight', 'gpt_neox.layers.18.attention.query_key_value.lora_A.default.weight', 'gpt_neox.layers.18.attention.query_key_value.lora_B.default.weight', 'gpt_neox.layers.19.attention.query_key_value.lora_A.default.weight', 'gpt_neox.layers.19.attention.query_key_value.lora_B.default.weight', 'gpt_neox.layers.2.attention.query_key_value.lora_A.default.weight', 'gpt_neox.layers.2.attention.query_key_value.lora_B.default.weight', 'gpt_neox.layers.20.attention.query_key_value.lora_A.default.weight', 'gpt_neox.layers.20.attention.query_key_value.lora_B.default.weight', 'gpt_neox.layers.21.attention.query_key_value.lora_A.default.weight', 'gpt_neox.layers.21.attention.query_key_value.lora_B.default.weight', 'gpt_neox.layers.22.attention.query_key_value.lora_A.default.weight', 'gpt_neox.layers.22.attention.query_key_value.lora_B.default.weight', 'gpt_neox.layers.23.attention.query_key_value.lora_A.default.weight', 'gpt_neox.layers.23.attention.query_key_value.lora_B.default.weight', 'gpt_neox.layers.24.attention.query_key_value.lora_A.default.weight', 'gpt_neox.layers.24.attention.query_key_value.lora_B.default.weight', 'gpt_neox.layers.25.attention.query_key_value.lora_A.default.weight', 'gpt_neox.layers.25.attention.query_key_value.lora_B.default.weight', 'gpt_neox.layers.26.attention.query_key_value.lora_A.default.weight', 'gpt_neox.layers.26.attention.query_key_value.lora_B.default.weight', 'gpt_neox.layers.27.attention.query_key_value.lora_A.default.weight', 'gpt_neox.layers.27.attention.query_key_value.lora_B.default.weight', 'gpt_neox.layers.3.attention.query_key_value.lora_A.default.weight', 'gpt_neox.layers.3.attention.query_key_value.lora_B.default.weight', 'gpt_neox.layers.4.attention.query_key_value.lora_A.default.weight', 'gpt_neox.layers.4.attention.query_key_value.lora_B.default.weight', 'gpt_neox.layers.5.attention.query_key_value.lora_A.default.weight', 'gpt_neox.layers.5.attention.query_key_value.lora_B.default.weight', 'gpt_neox.layers.6.attention.query_key_value.lora_A.default.weight', 'gpt_neox.layers.6.attention.query_key_value.lora_B.default.weight', 'gpt_neox.layers.7.attention.query_key_value.lora_A.default.weight', 'gpt_neox.layers.7.attention.query_key_value.lora_B.default.weight', 'gpt_neox.layers.8.attention.query_key_value.lora_A.default.weight', 'gpt_neox.layers.8.attention.query_key_value.lora_B.default.weight', 'gpt_neox.layers.9.attention.query_key_value.lora_A.default.weight', 'gpt_neox.layers.9.attention.query_key_value.lora_B.default.weight']. \n"
     ]
    }
   ],
   "source": [
    "from transformers import AutoModel\n",
    "\n",
    "# 저장할 모델 불러오기\n",
    "model = AutoModel.from_pretrained(\"ttb\")\n"
   ]
  },
  {
   "cell_type": "code",
   "execution_count": 161,
   "metadata": {},
   "outputs": [
    {
     "data": {
      "application/vnd.jupyter.widget-view+json": {
       "model_id": "638a94fa95994156b99b2432e25a7158",
       "version_major": 2,
       "version_minor": 0
      },
      "text/plain": [
       "README.md:   0%|          | 0.00/31.0 [00:00<?, ?B/s]"
      ]
     },
     "metadata": {},
     "output_type": "display_data"
    },
    {
     "data": {
      "text/plain": [
       "CommitInfo(commit_url='https://huggingface.co/chan1121/luckyvicky2_model_5b/commit/8862171f1d8ea083cb7d75d049b6191105a9fa44', commit_message='Upload tokenizer', commit_description='', oid='8862171f1d8ea083cb7d75d049b6191105a9fa44', pr_url=None, pr_revision=None, pr_num=None)"
      ]
     },
     "execution_count": 161,
     "metadata": {},
     "output_type": "execute_result"
    }
   ],
   "source": [
    "tokenizer.push_to_hub(\"chan1121/luckyvicky2_model_5b\")"
   ]
  },
  {
   "cell_type": "code",
   "execution_count": 67,
   "metadata": {},
   "outputs": [
    {
     "data": {
      "application/vnd.jupyter.widget-view+json": {
       "model_id": "415cba8a92874bed9b8e2dec249edcad",
       "version_major": 2,
       "version_minor": 0
      },
      "text/plain": [
       "tokenizer_config.json:   0%|          | 0.00/1.64k [00:00<?, ?B/s]"
      ]
     },
     "metadata": {},
     "output_type": "display_data"
    },
    {
     "data": {
      "application/vnd.jupyter.widget-view+json": {
       "model_id": "cf6e035d4aa8458b98c46bea098d2cd1",
       "version_major": 2,
       "version_minor": 0
      },
      "text/plain": [
       "tokenizer.json:   0%|          | 0.00/1.65M [00:00<?, ?B/s]"
      ]
     },
     "metadata": {},
     "output_type": "display_data"
    },
    {
     "data": {
      "application/vnd.jupyter.widget-view+json": {
       "model_id": "7a5a838bfb4c458e92d028e40bc89bbd",
       "version_major": 2,
       "version_minor": 0
      },
      "text/plain": [
       "special_tokens_map.json:   0%|          | 0.00/316 [00:00<?, ?B/s]"
      ]
     },
     "metadata": {},
     "output_type": "display_data"
    },
    {
     "name": "stderr",
     "output_type": "stream",
     "text": [
      "Special tokens have been added in the vocabulary, make sure the associated word embeddings are fine-tuned or trained.\n"
     ]
    },
    {
     "data": {
      "application/vnd.jupyter.widget-view+json": {
       "model_id": "cb1571d63cfe4a11af3d5a77f3595f1b",
       "version_major": 2,
       "version_minor": 0
      },
      "text/plain": [
       "adapter_config.json:   0%|          | 0.00/674 [00:00<?, ?B/s]"
      ]
     },
     "metadata": {},
     "output_type": "display_data"
    },
    {
     "data": {
      "application/vnd.jupyter.widget-view+json": {
       "model_id": "4ff68089fa0a4735ac4c7065ea312195",
       "version_major": 2,
       "version_minor": 0
      },
      "text/plain": [
       "Loading checkpoint shards:   0%|          | 0/13 [00:00<?, ?it/s]"
      ]
     },
     "metadata": {},
     "output_type": "display_data"
    },
    {
     "data": {
      "application/vnd.jupyter.widget-view+json": {
       "model_id": "fefe1153ca274958b463ae709db91e5f",
       "version_major": 2,
       "version_minor": 0
      },
      "text/plain": [
       "adapter_model.safetensors:   0%|          | 0.00/14.7M [00:00<?, ?B/s]"
      ]
     },
     "metadata": {},
     "output_type": "display_data"
    }
   ],
   "source": [
    "\n",
    "\n",
    "import torch\n",
    "from transformers import AutoTokenizer, AutoModelForCausalLM, BitsAndBytesConfig\n",
    "\n",
    "model_id = \"chan1121/luckyvicky2_5b\"\n",
    "bnb_config = BitsAndBytesConfig(\n",
    "    load_in_4bit=True,\n",
    "    bnb_4bit_use_double_quant=True,\n",
    "    bnb_4bit_quant_type=\"nf4\",\n",
    "    bnb_4bit_compute_dtype=torch.bfloat16\n",
    "\n",
    ")\n",
    "\n",
    "tokenizer = AutoTokenizer.from_pretrained(model_id)\n",
    "model = AutoModelForCausalLM.from_pretrained(model_id, quantization_config=bnb_config, device_map={\"\":0})"
   ]
  },
  {
   "cell_type": "code",
   "execution_count": 89,
   "metadata": {},
   "outputs": [
    {
     "data": {
      "image/png": "[encoded data removed]",
      "text/plain": [
       "<Figure size 640x480 with 1 Axes>"
      ]
     },
     "metadata": {},
     "output_type": "display_data"
    }
   ],
   "source": [
    "import pandas as pd\n",
    "import matplotlib.pyplot as plt\n",
    "\n",
    "training_logs = trainer.state.log_history\n",
    "\n",
    "loss = []\n",
    "step = []\n",
    "for i, log in enumerate(training_logs):\n",
    "  if (i + 1) % len(training_logs) == 0:\n",
    "    break\n",
    "  else:\n",
    "    loss.append(log['loss'])\n",
    "    step.append(log['step'])\n",
    "\n",
    "# print(step)\n",
    "# print(loss)\n",
    "\n",
    "# Plot the loss\n",
    "plt.plot(step, loss)\n",
    "plt.xlabel(\"Training Steps\")\n",
    "plt.ylabel(\"Training Loss\")\n",
    "plt.title(\"Training Loss Plot\")\n",
    "plt.show()\n"
   ]
  }
 ],
 "metadata": {
  "kernelspec": {
   "display_name": "pzpz",
   "language": "python",
   "name": "python3"
  },
  "language_info": {
   "codemirror_mode": {
    "name": "ipython",
    "version": 3
   },
   "file_extension": ".py",
   "mimetype": "text/x-python",
   "name": "python",
   "nbconvert_exporter": "python",
   "pygments_lexer": "ipython3",
   "version": "3.11.7"
  }
 },
 "nbformat": 4,
 "nbformat_minor": 2
}
